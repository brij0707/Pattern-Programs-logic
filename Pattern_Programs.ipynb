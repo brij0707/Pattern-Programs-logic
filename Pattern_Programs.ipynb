{
  "nbformat": 4,
  "nbformat_minor": 0,
  "metadata": {
    "colab": {
      "provenance": [],
      "toc_visible": true,
      "authorship_tag": "ABX9TyN+IqI+QzJcSe/eOsj3CYMv",
      "include_colab_link": true
    },
    "kernelspec": {
      "name": "python3",
      "display_name": "Python 3"
    },
    "language_info": {
      "name": "python"
    }
  },
  "cells": [
    {
      "cell_type": "markdown",
      "metadata": {
        "id": "view-in-github",
        "colab_type": "text"
      },
      "source": [
        "<a href=\"https://colab.research.google.com/github/brij0707/Pattern-Programs-logic/blob/main/Pattern_Programs.ipynb\" target=\"_parent\"><img src=\"https://colab.research.google.com/assets/colab-badge.svg\" alt=\"Open In Colab\"/></a>"
      ]
    },
    {
      "cell_type": "markdown",
      "source": [
        "**[Don't Forget to Like and Follow the Youtube Channel @TheInnomind](https://www.youtube.com/@TheInnomind)**\n",
        "\n",
        "[![Innomind Logo](https://raw.githubusercontent.com/brij0707/Pattern-Programs-logic/main/images/INNOMIND%20logo.png \"Innomind Logo\")](https://raw.githubusercontent.com/brij0707/Pattern-Programs-logic/main/images/INNOMIND%20logo.png \"Innomind Logo\")\n",
        "\n",
        "\n"
      ],
      "metadata": {
        "id": "LKpaBAcS9kI2"
      }
    },
    {
      "cell_type": "markdown",
      "source": [
        "# Pattern Programs Logic"
      ],
      "metadata": {
        "id": "xen6y4CH6_08"
      }
    },
    {
      "cell_type": "markdown",
      "source": [
        " Before starting this concept lets learn something about matrix. Matrix is a 2D or 3D cuboidal structure. Matrix, a set of numbers arranged in rows and columns so as to form a rectangular array. The numbers are called the elements, or entries, of the matrix."
      ],
      "metadata": {
        "id": "ZW0uhObP7HCB"
      }
    },
    {
      "cell_type": "markdown",
      "source": [
        "## Position of an element in a matrix\n",
        "[![matrix position](https://raw.githubusercontent.com/brij0707/Pattern-Programs-logic/main/images/MatrixLabelled.svg.png \"matrix position\")](https://raw.githubusercontent.com/brij0707/Pattern-Programs-logic/main/images/MatrixLabelled.svg.png \"matrix position\")"
      ],
      "metadata": {
        "id": "afnShvzY8Cl8"
      }
    },
    {
      "cell_type": "markdown",
      "source": [
        "### Mechanism of for loop"
      ],
      "metadata": {
        "id": "IWXELBzwBtzL"
      }
    },
    {
      "cell_type": "code",
      "execution_count": 2,
      "metadata": {
        "id": "R5MRyEpV6_AF",
        "colab": {
          "base_uri": "https://localhost:8080/"
        },
        "outputId": "fe8e1acb-a41f-4344-e045-95b17eb13510"
      },
      "outputs": [
        {
          "output_type": "stream",
          "name": "stdout",
          "text": [
            "0\n",
            "1\n",
            "2\n",
            "3\n",
            "4\n"
          ]
        }
      ],
      "source": [
        "# print 0 to 4\n",
        "for i in range(0,5):\n",
        "  print(i)"
      ]
    },
    {
      "cell_type": "code",
      "execution_count": 4,
      "metadata": {
        "colab": {
          "base_uri": "https://localhost:8080/"
        },
        "outputId": "ee5404c7-9f6e-48f1-dc51-df31c5a6d082",
        "id": "HpdKguCYB_gy"
      },
      "outputs": [
        {
          "output_type": "stream",
          "name": "stdout",
          "text": [
            "*\n",
            "*\n",
            "*\n",
            "*\n",
            "*\n"
          ]
        }
      ],
      "source": [
        "# print 4 stars\n",
        "for i in range(0,5):\n",
        "  print('*')"
      ]
    },
    {
      "cell_type": "markdown",
      "source": [
        "### Observation\n",
        "All the output are being done in separate lines, meaning as the loop value exahusts , line changes"
      ],
      "metadata": {
        "id": "KcLiJdBYCHp2"
      }
    },
    {
      "cell_type": "code",
      "execution_count": 13,
      "metadata": {
        "colab": {
          "base_uri": "https://localhost:8080/"
        },
        "outputId": "46540f1f-8d79-4852-a7eb-9d0a4acaa3c0",
        "id": "6sYjGGtdCeIk"
      },
      "outputs": [
        {
          "output_type": "stream",
          "name": "stdout",
          "text": [
            "01234"
          ]
        }
      ],
      "source": [
        "# print 0 to 4\n",
        "for i in range(0,5):\n",
        "  print(i,end='')\n",
        "\n",
        "# in JAVA u use system.out.print and println for line change"
      ]
    },
    {
      "cell_type": "code",
      "source": [
        "print('a','b','c')"
      ],
      "metadata": {
        "colab": {
          "base_uri": "https://localhost:8080/"
        },
        "id": "Y30Un8uTDLUV",
        "outputId": "3c789120-1c66-4eb3-b50d-cb7f4a45dde1"
      },
      "execution_count": 7,
      "outputs": [
        {
          "output_type": "stream",
          "name": "stdout",
          "text": [
            "a b c\n"
          ]
        }
      ]
    },
    {
      "cell_type": "code",
      "source": [
        "print('a','b','c',end='')"
      ],
      "metadata": {
        "colab": {
          "base_uri": "https://localhost:8080/"
        },
        "id": "sXr9YQhgDu-M",
        "outputId": "a0099561-dc69-4755-8d41-f83066850b87"
      },
      "execution_count": 9,
      "outputs": [
        {
          "output_type": "stream",
          "name": "stdout",
          "text": [
            "a b c"
          ]
        }
      ]
    },
    {
      "cell_type": "code",
      "source": [
        "# lets see various combinations of these formattings in case of a list\n",
        "mylist=[1,2,3,4,5]\n",
        "for i in mylist:\n",
        "  print(i)\n",
        "  #print(i,end='') # print without space\n",
        "  #print(i,end=' ') # print with space\n",
        "  #print(*mylist) # print horizontally using iterable unpacking"
      ],
      "metadata": {
        "colab": {
          "base_uri": "https://localhost:8080/"
        },
        "id": "9tZWX45KEGKu",
        "outputId": "e092851f-d1d6-4a6b-fbef-5d3aaac0699b"
      },
      "execution_count": 14,
      "outputs": [
        {
          "output_type": "stream",
          "name": "stdout",
          "text": [
            "1 2 3 4 5\n",
            "1 2 3 4 5\n",
            "1 2 3 4 5\n",
            "1 2 3 4 5\n",
            "1 2 3 4 5\n"
          ]
        }
      ]
    },
    {
      "cell_type": "code",
      "source": [
        "## Nested for loop\n",
        "for i in range (0,3):\n",
        "  for j in range(3,6):\n",
        "    print(\"this is j \", j)\n",
        "  print('this is i ',i)"
      ],
      "metadata": {
        "colab": {
          "base_uri": "https://localhost:8080/"
        },
        "id": "Dkb7gszxFLeL",
        "outputId": "3fc8a8c4-66e2-4a4e-cdc5-ce702bf8ecd5"
      },
      "execution_count": 25,
      "outputs": [
        {
          "output_type": "stream",
          "name": "stdout",
          "text": [
            "this is j  3\n",
            "this is j  4\n",
            "this is j  5\n",
            "this is i  0\n",
            "this is j  3\n",
            "this is j  4\n",
            "this is j  5\n",
            "this is i  1\n",
            "this is j  3\n",
            "this is j  4\n",
            "this is j  5\n",
            "this is i  2\n"
          ]
        }
      ]
    },
    {
      "cell_type": "code",
      "source": [
        "## Nested for loop\n",
        "for i in range (0,3):\n",
        "  for j in range(3,6):\n",
        "    print(j,end='')\n",
        "  print('\\n') #escape sequence"
      ],
      "metadata": {
        "colab": {
          "base_uri": "https://localhost:8080/"
        },
        "id": "N4Sr2o0-TCVU",
        "outputId": "73ad3f34-d471-4bc6-99b2-71b27230482f"
      },
      "execution_count": 29,
      "outputs": [
        {
          "output_type": "stream",
          "name": "stdout",
          "text": [
            "345\n",
            "\n",
            "345\n",
            "\n",
            "345\n",
            "\n"
          ]
        }
      ]
    },
    {
      "cell_type": "markdown",
      "source": [
        "### Printing a square of stars\n",
        "\n",
        "[![pattern](https://raw.githubusercontent.com/brij0707/Pattern-Programs-logic/main/images/pattern.jpg \"pattern\")](https://raw.githubusercontent.com/brij0707/Pattern-Programs-logic/main/images/pattern.jpg \"pattern\")"
      ],
      "metadata": {
        "id": "OcHSBwRaQeVI"
      }
    },
    {
      "cell_type": "code",
      "source": [
        "## square pattern\n",
        "for i in range (0,5):\n",
        "  for j in range(0,5):\n",
        "    print('*',end=' ')\n",
        "  print('\\n') # escape sequence"
      ],
      "metadata": {
        "colab": {
          "base_uri": "https://localhost:8080/"
        },
        "outputId": "527828f0-1ce8-42dc-ab0c-2ee723adcd5b",
        "id": "GE8DeaI_SgYf"
      },
      "execution_count": null,
      "outputs": [
        {
          "output_type": "stream",
          "name": "stdout",
          "text": [
            "* * * * * \n",
            "\n",
            "* * * * * \n",
            "\n",
            "* * * * * \n",
            "\n",
            "* * * * * \n",
            "\n",
            "* * * * * \n",
            "\n"
          ]
        }
      ]
    },
    {
      "cell_type": "code",
      "source": [
        "## left star pattern\n",
        "for i in range (0,5):\n",
        "  for j in range(0,i):\n",
        "    print('*',end=' ')\n",
        "  print('\\n') # escape sequence"
      ],
      "metadata": {
        "colab": {
          "base_uri": "https://localhost:8080/"
        },
        "id": "NmMREp9UTkhD",
        "outputId": "ec5fbfef-4a37-4941-dae4-3c18eadc65e7"
      },
      "execution_count": 30,
      "outputs": [
        {
          "output_type": "stream",
          "name": "stdout",
          "text": [
            "\n",
            "\n",
            "* \n",
            "\n",
            "* * \n",
            "\n",
            "* * * \n",
            "\n",
            "* * * * \n",
            "\n"
          ]
        }
      ]
    },
    {
      "cell_type": "code",
      "source": [
        "# left star pattern upside down\n",
        "for i in range (0,5):\n",
        "  for j in range(5,i,-1):\n",
        "    print('*',end=' ')\n",
        "  print('\\n') # escape sequence"
      ],
      "metadata": {
        "colab": {
          "base_uri": "https://localhost:8080/"
        },
        "id": "0s6e676qTy0E",
        "outputId": "e7f8b48f-570f-4464-82c9-344118e1b2f0"
      },
      "execution_count": 32,
      "outputs": [
        {
          "output_type": "stream",
          "name": "stdout",
          "text": [
            "* * * * * \n",
            "\n",
            "* * * * \n",
            "\n",
            "* * * \n",
            "\n",
            "* * \n",
            "\n",
            "* \n",
            "\n"
          ]
        }
      ]
    },
    {
      "cell_type": "code",
      "source": [
        "# What if we merged above two codes\n"
      ],
      "metadata": {
        "id": "lcfpafsDbAWq"
      },
      "execution_count": 56,
      "outputs": []
    },
    {
      "cell_type": "code",
      "source": [
        "# ??\n",
        "for i in range (0,5):\n",
        "  for j in range(4,i,-1):\n",
        "    print(' ',end=' ')\n",
        "  print('*')\n",
        "  print('\\n') # escape sequence"
      ],
      "metadata": {
        "colab": {
          "base_uri": "https://localhost:8080/"
        },
        "id": "2mS0aFh_UMVb",
        "outputId": "588e73a3-5b97-44a8-b52e-21a2b9165027"
      },
      "execution_count": 33,
      "outputs": [
        {
          "output_type": "stream",
          "name": "stdout",
          "text": [
            "        *\n",
            "\n",
            "\n",
            "      *\n",
            "\n",
            "\n",
            "    *\n",
            "\n",
            "\n",
            "  *\n",
            "\n",
            "\n",
            "*\n",
            "\n",
            "\n"
          ]
        }
      ]
    },
    {
      "cell_type": "code",
      "source": [
        "# left star pattern upside down\n",
        "for i in range (0,5):\n",
        "  for j in range(4,i,-1):\n",
        "    print(' ',end=' ')\n",
        "  for k in range (0,i):\n",
        "    print('* ',end='')\n",
        "  print('\\n') # escape sequence"
      ],
      "metadata": {
        "colab": {
          "base_uri": "https://localhost:8080/"
        },
        "id": "eEDWPkY6Ug7Q",
        "outputId": "6f7f3d4c-fe05-48ed-9cc3-140337940727"
      },
      "execution_count": 41,
      "outputs": [
        {
          "output_type": "stream",
          "name": "stdout",
          "text": [
            "        \n",
            "\n",
            "      * \n",
            "\n",
            "    * * \n",
            "\n",
            "  * * * \n",
            "\n",
            "* * * * \n",
            "\n"
          ]
        }
      ]
    },
    {
      "cell_type": "code",
      "source": [
        "# string * number\n",
        "print(\"*\" * 4)"
      ],
      "metadata": {
        "colab": {
          "base_uri": "https://localhost:8080/"
        },
        "id": "TxTG_a1CWQWh",
        "outputId": "4026736f-c907-4e2f-87ef-ea2e190dd365"
      },
      "execution_count": 43,
      "outputs": [
        {
          "output_type": "stream",
          "name": "stdout",
          "text": [
            "****\n"
          ]
        }
      ]
    },
    {
      "cell_type": "code",
      "source": [
        "for i in range(0,5):\n",
        "  print(\" \" * (5- i) +\"*\" * i)"
      ],
      "metadata": {
        "colab": {
          "base_uri": "https://localhost:8080/"
        },
        "id": "yrfp4pTRWIBQ",
        "outputId": "9f360c44-63d6-40d7-e3a7-fed43eeb5248"
      },
      "execution_count": 42,
      "outputs": [
        {
          "output_type": "stream",
          "name": "stdout",
          "text": [
            "     \n",
            "    *\n",
            "   **\n",
            "  ***\n",
            " ****\n"
          ]
        }
      ]
    },
    {
      "cell_type": "code",
      "source": [
        "# half upper diamond pattern\n",
        "for i in range(0,5):\n",
        "  for j in range(5,i,-1):\n",
        "    print(' ',end='')\n",
        "  for k in range(0,i+1):\n",
        "    print('* ',end='')\n",
        "  print('\\n')"
      ],
      "metadata": {
        "colab": {
          "base_uri": "https://localhost:8080/"
        },
        "id": "NwrZKiBzWinZ",
        "outputId": "02b9596a-0c0a-4252-97ce-8720135784cd"
      },
      "execution_count": 50,
      "outputs": [
        {
          "output_type": "stream",
          "name": "stdout",
          "text": [
            "     * \n",
            "\n",
            "    * * \n",
            "\n",
            "   * * * \n",
            "\n",
            "  * * * * \n",
            "\n",
            " * * * * * \n",
            "\n"
          ]
        }
      ]
    },
    {
      "cell_type": "code",
      "source": [
        "# can we print in 1 line??"
      ],
      "metadata": {
        "id": "9Vk95kCAaP9z"
      },
      "execution_count": null,
      "outputs": []
    },
    {
      "cell_type": "code",
      "source": [
        "for i in range(0,5):\n",
        "  print(\" \" * (5-i) +\"* \" * i)"
      ],
      "metadata": {
        "colab": {
          "base_uri": "https://localhost:8080/"
        },
        "id": "CbfkI71RaDog",
        "outputId": "36029e5b-6f40-4ee2-b5cb-566f9572af59"
      },
      "execution_count": 51,
      "outputs": [
        {
          "output_type": "stream",
          "name": "stdout",
          "text": [
            "     \n",
            "    * \n",
            "   * * \n",
            "  * * * \n",
            " * * * * \n"
          ]
        }
      ]
    },
    {
      "cell_type": "markdown",
      "source": [
        "### Replacing Star with number or alphabet"
      ],
      "metadata": {
        "id": "XvEYu2BAagCH"
      }
    },
    {
      "cell_type": "code",
      "source": [
        "## square pattern\n",
        "for i in range (0,5):\n",
        "  for j in range(1,6):\n",
        "    print(j,end=' ')\n",
        "  print('\\n') # escape sequence"
      ],
      "metadata": {
        "colab": {
          "base_uri": "https://localhost:8080/"
        },
        "id": "-49x0m4HaaeG",
        "outputId": "177b44cb-2a34-4be2-fbe9-39da5f8016d6"
      },
      "execution_count": 52,
      "outputs": [
        {
          "output_type": "stream",
          "name": "stdout",
          "text": [
            "1 2 3 4 5 \n",
            "\n",
            "1 2 3 4 5 \n",
            "\n",
            "1 2 3 4 5 \n",
            "\n",
            "1 2 3 4 5 \n",
            "\n",
            "1 2 3 4 5 \n",
            "\n"
          ]
        }
      ]
    },
    {
      "cell_type": "code",
      "source": [
        "## left star pattern\n",
        "for i in range (0,5):\n",
        "  for j in range(0,i):\n",
        "    print(j,end=' ')\n",
        "  print('\\n') # escape sequence"
      ],
      "metadata": {
        "colab": {
          "base_uri": "https://localhost:8080/"
        },
        "id": "z4PZTW4Ka4vZ",
        "outputId": "afb0d103-6510-487c-f150-a8f8708b243e"
      },
      "execution_count": 53,
      "outputs": [
        {
          "output_type": "stream",
          "name": "stdout",
          "text": [
            "\n",
            "\n",
            "0 \n",
            "\n",
            "0 1 \n",
            "\n",
            "0 1 2 \n",
            "\n",
            "0 1 2 3 \n",
            "\n"
          ]
        }
      ]
    },
    {
      "cell_type": "code",
      "source": [
        "# left star pattern upside down\n",
        "for i in range (0,5):\n",
        "  for j in range(5,i,-1):\n",
        "    print(j,end=' ')\n",
        "  print('\\n') # escape sequence"
      ],
      "metadata": {
        "colab": {
          "base_uri": "https://localhost:8080/"
        },
        "id": "KGAJ6FfWbHmr",
        "outputId": "22f289d9-e92e-4dd3-c73f-1aaa5a2c0591"
      },
      "execution_count": 54,
      "outputs": [
        {
          "output_type": "stream",
          "name": "stdout",
          "text": [
            "5 4 3 2 1 \n",
            "\n",
            "5 4 3 2 \n",
            "\n",
            "5 4 3 \n",
            "\n",
            "5 4 \n",
            "\n",
            "5 \n",
            "\n"
          ]
        }
      ]
    },
    {
      "cell_type": "markdown",
      "source": [
        "#### what is ASCII code?\n",
        "\n"
      ],
      "metadata": {
        "id": "fbT-zMRrbiav"
      }
    },
    {
      "cell_type": "code",
      "source": [
        "num = 65\n",
        "print (num)\n",
        "#print(chr(num)) # this is type casting/ data type changing"
      ],
      "metadata": {
        "colab": {
          "base_uri": "https://localhost:8080/"
        },
        "id": "gsNv223GbcYc",
        "outputId": "a997ebb7-e455-40de-fdc5-b9674549cbce"
      },
      "execution_count": 60,
      "outputs": [
        {
          "output_type": "stream",
          "name": "stdout",
          "text": [
            "65\n",
            "A\n"
          ]
        }
      ]
    },
    {
      "cell_type": "code",
      "source": [
        "## left star pattern\n",
        "num=65\n",
        "for i in range (0,5):\n",
        "  for j in range(0,i):\n",
        "    print(chr(num),end=' ')\n",
        "    num=num+1\n",
        "  print('\\n') # escape sequence\n",
        "  #num=65"
      ],
      "metadata": {
        "colab": {
          "base_uri": "https://localhost:8080/"
        },
        "id": "5cwT5Bk8cA_l",
        "outputId": "8cdc0f3d-6b05-4c06-86f8-3246a6e61505"
      },
      "execution_count": 63,
      "outputs": [
        {
          "output_type": "stream",
          "name": "stdout",
          "text": [
            "\n",
            "\n",
            "A \n",
            "\n",
            "B C \n",
            "\n",
            "D E F \n",
            "\n",
            "G H I J \n",
            "\n"
          ]
        }
      ]
    },
    {
      "cell_type": "code",
      "source": [
        "## left star pattern\n",
        "for i in range (65,70):\n",
        "  for j in range(65,i):\n",
        "    print(chr(j),end=' ')\n",
        "  print('\\n') # escape sequence\n",
        "  "
      ],
      "metadata": {
        "colab": {
          "base_uri": "https://localhost:8080/"
        },
        "id": "-6ktn4l1cY_G",
        "outputId": "dfba64d0-8617-4a70-9ddc-1ba66ba50de7"
      },
      "execution_count": 65,
      "outputs": [
        {
          "output_type": "stream",
          "name": "stdout",
          "text": [
            "\n",
            "\n",
            "A \n",
            "\n",
            "A B \n",
            "\n",
            "A B C \n",
            "\n",
            "A B C D \n",
            "\n"
          ]
        }
      ]
    }
  ]
}